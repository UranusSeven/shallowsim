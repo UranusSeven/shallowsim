{
 "cells": [
  {
   "cell_type": "code",
   "execution_count": null,
   "id": "9082e724-1810-4122-be42-95f4cf959288",
   "metadata": {},
   "outputs": [],
   "source": [
    "import os, sys\n",
    "import warnings\n",
    "\n",
    "sys.path.insert(1, os.path.join(os.getcwd(), \"..\"))\n",
    "warnings.filterwarnings(\"ignore\", category=DeprecationWarning)\n",
    "warnings.filterwarnings(\"ignore\", category=FutureWarning)"
   ]
  },
  {
   "cell_type": "code",
   "execution_count": null,
   "id": "cd279c57-e480-46be-8023-653505cb3d2a",
   "metadata": {},
   "outputs": [],
   "source": [
    "import shallowsim as sb"
   ]
  },
  {
   "cell_type": "code",
   "execution_count": null,
   "id": "746db266-b2b4-42a7-accd-75727da093ae",
   "metadata": {},
   "outputs": [],
   "source": [
    "args = sb.KIMI_K2\n",
    "c = sb.Config()\n",
    "c.seq_len = 6000\n",
    "c.decode_len = 200\n",
    "c.kv_cache_rate = 0\n",
    "c.tp_list = [1]\n",
    "gpu_blackwell_decode = sb.get_gpu_info(\n",
    "    \"./device/gpu_info.csv\", decoding_mode=True, print_console=True\n",
    ")\n",
    "\n",
    "# gpu_blackwell_decode['H20'].pcie_bw = 25 #change bw to 1.6Tbps.."
   ]
  },
  {
   "cell_type": "code",
   "execution_count": null,
   "id": "d66ebd3d-545a-4ddc-912a-0df84ac050f8",
   "metadata": {},
   "outputs": [],
   "source": [
    "dfs = sb.decode_time_with_ep_list(\n",
    "    args, gpu_blackwell_decode, c, fp8_combine=True, tps_limit=0, throughput_discount=0.75\n",
    ")"
   ]
  },
  {
   "cell_type": "markdown",
   "id": "12079c82-9d3a-42f9-be98-564da49f7a9d",
   "metadata": {},
   "source": [
    "# 推理性能天梯榜"
   ]
  },
  {
   "cell_type": "code",
   "execution_count": null,
   "id": "d1a90255-e99d-4520-b0cf-a42c73961c30",
   "metadata": {},
   "outputs": [],
   "source": [
    "dfs_o = (\n",
    "    dfs.groupby([\"GPU\", \"BatchSize\"], as_index=False)\n",
    "    .apply(lambda t: t[t.Total == t.Total.max()])\n",
    "    .sort_values([\"Total\"], ascending=False)\n",
    "    .reset_index(drop=True)\n",
    ")\n",
    "dfs_o.style.bar(subset=[\"TPS\", \"Total\"], color=\"#6495ED\").applymap(\n",
    "    sb.gpu_category_color,\n",
    "    props=sb.gpu_category_idx(gpu_blackwell_decode),\n",
    "    subset=[\"GPU\"],\n",
    ").applymap(sb.color_ratio, subset=[\"Profit_Ratio\"]).applymap(\n",
    "    sb.color_ratio, subset=[\"Profit_Ratio_O\"]\n",
    ").applymap(\n",
    "    sb.color_positive_red, subset=[\"Delta\"]\n",
    ").background_gradient(\n",
    "    subset=[\"Comm_Impact\"], cmap=sb.cm\n",
    ").format(\n",
    "    precision=3\n",
    ")"
   ]
  },
  {
   "cell_type": "markdown",
   "id": "64eacde2-e5f8-4a9f-ae6b-0fbbd347a848",
   "metadata": {},
   "source": [
    "# 查看单个GPU的性能"
   ]
  },
  {
   "cell_type": "code",
   "execution_count": null,
   "id": "67b8892b",
   "metadata": {},
   "outputs": [],
   "source": [
    "sb.df_filter(dfs, \"H800\", device_num=32).style.bar(\n",
    "    subset=[\"TPS\", \"Total\"], color=\"#6495ED\"\n",
    ").applymap(sb.color_positive_red, subset=[\"Delta\"]).applymap(\n",
    "    sb.color_ratio, subset=[\"Profit_Ratio\"]\n",
    ").applymap(\n",
    "    sb.color_ratio, subset=[\"Profit_Ratio_O\"]\n",
    ").background_gradient(\n",
    "    subset=[\"Comm_Impact\"], cmap=sb.cm\n",
    ").format(\n",
    "    precision=3\n",
    ")"
   ]
  },
  {
   "cell_type": "code",
   "execution_count": null,
   "id": "dffe0cfd-c5bf-41de-ac3d-56a16d892eb0",
   "metadata": {},
   "outputs": [],
   "source": [
    "sb.df_filter(dfs, \"H200\", device_num=32).style.bar(\n",
    "    subset=[\"TPS\", \"Total\"], color=\"#6495ED\"\n",
    ").applymap(sb.color_positive_red, subset=[\"Delta\"]).applymap(\n",
    "    sb.color_ratio, subset=[\"Profit_Ratio\"]\n",
    ").applymap(\n",
    "    sb.color_ratio, subset=[\"Profit_Ratio_O\"]\n",
    ").background_gradient(\n",
    "    subset=[\"Comm_Impact\"], cmap=sb.cm\n",
    ").format(\n",
    "    precision=3\n",
    ")"
   ]
  },
  {
   "cell_type": "code",
   "execution_count": null,
   "id": "5a76a6cc-38f4-4761-a439-bfc7c7a727fb",
   "metadata": {},
   "outputs": [],
   "source": [
    "cols = [\n",
    "    \"GPU\",\n",
    "    \"TP\",\n",
    "    \"EP\",\n",
    "    \"BatchSize\",\n",
    "    \"Delta\",\n",
    "    \"TPS\",\n",
    "    \"TPS_O\",\n",
    "    \"Total\",\n",
    "    \"Total_O\",\n",
    "    \"Cost\",\n",
    "    \"Revenue\",\n",
    "    \"Revenue_O\",\n",
    "    \"Profit_Ratio\",\n",
    "    \"Profit_Ratio_O\",\n",
    "    \"Comm_Impact\",\n",
    "]\n",
    "sb.df_filter(dfs[cols], \"H20-3E\", device_num=16).style.bar(\n",
    "    subset=[\"TPS\", \"Total\"], color=\"#6495ED\"\n",
    ").applymap(sb.color_positive_red, subset=[\"Delta\"]).applymap(\n",
    "    sb.color_ratio, subset=[\"Profit_Ratio\"]\n",
    ").applymap(\n",
    "    sb.color_ratio, subset=[\"Profit_Ratio_O\"]\n",
    ").background_gradient(\n",
    "    subset=[\"Comm_Impact\"], cmap=sb.cm\n",
    ").format(\n",
    "    precision=3\n",
    ")\n"
   ]
  }
 ],
 "metadata": {
  "kernelspec": {
   "display_name": "base",
   "language": "python",
   "name": "python3"
  },
  "language_info": {
   "codemirror_mode": {
    "name": "ipython",
    "version": 3
   },
   "file_extension": ".py",
   "mimetype": "text/x-python",
   "name": "python",
   "nbconvert_exporter": "python",
   "pygments_lexer": "ipython3",
   "version": "3.10.12"
  }
 },
 "nbformat": 4,
 "nbformat_minor": 5
}
