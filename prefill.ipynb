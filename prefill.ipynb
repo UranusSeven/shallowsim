{
 "cells": [
  {
   "cell_type": "code",
   "execution_count": null,
   "id": "9082e724-1810-4122-be42-95f4cf959288",
   "metadata": {},
   "outputs": [],
   "source": [
    "import os, sys\n",
    "\n",
    "sys.path.insert(1, os.path.join(os.getcwd(), \"..\"))"
   ]
  },
  {
   "cell_type": "code",
   "execution_count": null,
   "id": "cd279c57-e480-46be-8023-653505cb3d2a",
   "metadata": {},
   "outputs": [],
   "source": [
    "import shallowsim as sb\n",
    "import pandas as pd\n",
    "import math"
   ]
  },
  {
   "cell_type": "code",
   "execution_count": null,
   "id": "746db266-b2b4-42a7-accd-75727da093ae",
   "metadata": {},
   "outputs": [],
   "source": [
    "args = sb.ModelArgs()\n",
    "gpu_blackwell = sb.get_gpu_info(\"./device/gpu_info.csv\", print_console=True)"
   ]
  },
  {
   "cell_type": "code",
   "execution_count": null,
   "id": "a53c0e1f-6e86-4c14-bc37-9ce5da9fdae1",
   "metadata": {},
   "outputs": [],
   "source": [
    "seq_len = 4383\n",
    "kv_cache_rate = 0.563\n",
    "decode_len = 1210\n",
    "bs_list = [16, 32, 64, 128, 256, 512]\n",
    "eplist = [8, 16, 36, 72, 144, 320]"
   ]
  },
  {
   "cell_type": "code",
   "execution_count": null,
   "id": "7e5dec77-10e0-459a-9cb0-896c493b8b50",
   "metadata": {},
   "outputs": [],
   "source": [
    "detail, summary = sb.prefill_time(\n",
    "    args, gpu_blackwell, seq_len, kv_cache_rate, tp=4, dp=8\n",
    ")"
   ]
  },
  {
   "cell_type": "code",
   "execution_count": null,
   "id": "251127c3-41ca-44f9-a255-ba672b7ac865",
   "metadata": {},
   "outputs": [],
   "source": [
    "detail"
   ]
  },
  {
   "cell_type": "code",
   "execution_count": null,
   "id": "a3e8d48d-c828-4318-a8c3-4092d532b11e",
   "metadata": {},
   "outputs": [],
   "source": [
    "summary"
   ]
  },
  {
   "cell_type": "code",
   "execution_count": null,
   "id": "c2e29861-a935-4a21-a43d-44a65a8e2c92",
   "metadata": {},
   "outputs": [],
   "source": [
    "tp = 4\n",
    "_, ttft_sum = sb.prefill_time(\n",
    "    args, gpu_blackwell, seq_len, kv_cache_rate, tp=tp, dp=8, print_console=False\n",
    ")\n",
    "print(\n",
    "    ttft_sum.apply(lambda x: seq_len / tp * (1000 / x))\n",
    "    .loc[\"Sum\"]\n",
    "    .to_markdown(floatfmt=\".1f\")\n",
    ")"
   ]
  },
  {
   "cell_type": "code",
   "execution_count": null,
   "id": "9a62bba8-1fcc-47b9-9cda-186bff406042",
   "metadata": {},
   "outputs": [],
   "source": []
  }
 ],
 "metadata": {
  "kernelspec": {
   "display_name": "Python 3 (ipykernel)",
   "language": "python",
   "name": "python3"
  },
  "language_info": {
   "codemirror_mode": {
    "name": "ipython",
    "version": 3
   },
   "file_extension": ".py",
   "mimetype": "text/x-python",
   "name": "python",
   "nbconvert_exporter": "python",
   "pygments_lexer": "ipython3",
   "version": "3.9.6"
  }
 },
 "nbformat": 4,
 "nbformat_minor": 5
}
