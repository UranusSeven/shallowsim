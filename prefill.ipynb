{
 "cells": [
  {
   "cell_type": "code",
   "execution_count": 1,
   "id": "9082e724-1810-4122-be42-95f4cf959288",
   "metadata": {},
   "outputs": [],
   "source": [
    "import os,sys\n",
    "sys.path.insert(1, os.path.join(os.getcwd()  , '..'))"
   ]
  },
  {
   "cell_type": "code",
   "execution_count": 2,
   "id": "cd279c57-e480-46be-8023-653505cb3d2a",
   "metadata": {},
   "outputs": [],
   "source": [
    "import shallowsim as sb\n",
    "import pandas as pd\n",
    "import math"
   ]
  },
  {
   "cell_type": "code",
   "execution_count": 3,
   "id": "746db266-b2b4-42a7-accd-75727da093ae",
   "metadata": {},
   "outputs": [
    {
     "name": "stdout",
     "output_type": "stream",
     "text": [
      "| gpu_type    |   sm |   comm_sm |   fp16 |   fp8 |   fp4 |   mem |   mem_bw |   nvlink_bw |   pcie_bw |   gpu_per_node |\n",
      "|:------------|-----:|----------:|-------:|------:|------:|------:|---------:|------------:|----------:|---------------:|\n",
      "| DGX-B300    |  160 |        20 |   3375 |  7500 | 15000 |   288 |     9600 |         900 |       100 |              8 |\n",
      "| DGX-B200    |  160 |        20 |   2250 |  4500 |  9000 |   180 |     8000 |         900 |       100 |              8 |\n",
      "| GB200-NVL72 |  160 |        20 |   2500 |  5000 | 10000 |   192 |     8000 |         900 |       100 |             72 |\n",
      "| GB300-NVL72 |  160 |        20 |   3750 |  7500 | 15000 |   288 |     9600 |         900 |       100 |             72 |\n",
      "| H200        |  132 |        20 |    989 |  1979 |     0 |   141 |     4800 |         450 |        50 |              8 |\n",
      "| H800        |  132 |        20 |    989 |  1979 |     0 |    80 |     4000 |         200 |        50 |              8 |\n",
      "| H20         |   78 |        10 |    148 |   296 |     0 |    96 |     4000 |         450 |        50 |              8 |\n",
      "| H20-3E      |   78 |        10 |    148 |   296 |     0 |   141 |     4800 |         450 |        50 |              8 |\n"
     ]
    }
   ],
   "source": [
    "args = sb.ModelArgs()\n",
    "gpu_blackwell = sb.get_gpu_info('./device/gpu_info.csv', device_list=['DGX-B200','GB200-NVL72','H200','H800','H20-3E'] ,print_console=True ) "
   ]
  },
  {
   "cell_type": "code",
   "execution_count": 4,
   "id": "a53c0e1f-6e86-4c14-bc37-9ce5da9fdae1",
   "metadata": {},
   "outputs": [],
   "source": [
    "seq_len = 4383\n",
    "kv_cache_rate = 0.563\n",
    "decode_len = 1210\n",
    "bs_list =[ 16, 32, 64, 128, 256, 512]\n",
    "eplist = [ 8 , 16, 36, 72, 144, 320]"
   ]
  },
  {
   "cell_type": "code",
   "execution_count": 5,
   "id": "7e5dec77-10e0-459a-9cb0-896c493b8b50",
   "metadata": {},
   "outputs": [],
   "source": [
    "detail,summary = sb.prefill_time(args,gpu_blackwell,seq_len, kv_cache_rate, tp=4, dp=8)"
   ]
  },
  {
   "cell_type": "code",
   "execution_count": 6,
   "id": "251127c3-41ca-44f9-a255-ba672b7ac865",
   "metadata": {},
   "outputs": [
    {
     "data": {
      "text/html": [
       "<div>\n",
       "<style scoped>\n",
       "    .dataframe tbody tr th:only-of-type {\n",
       "        vertical-align: middle;\n",
       "    }\n",
       "\n",
       "    .dataframe tbody tr th {\n",
       "        vertical-align: top;\n",
       "    }\n",
       "\n",
       "    .dataframe thead th {\n",
       "        text-align: right;\n",
       "    }\n",
       "</style>\n",
       "<table border=\"1\" class=\"dataframe\">\n",
       "  <thead>\n",
       "    <tr style=\"text-align: right;\">\n",
       "      <th>GPU</th>\n",
       "      <th>Layers</th>\n",
       "      <th>DGX-B200</th>\n",
       "      <th>GB200-NVL72</th>\n",
       "      <th>H200</th>\n",
       "      <th>H800</th>\n",
       "      <th>H20-3E</th>\n",
       "    </tr>\n",
       "  </thead>\n",
       "  <tbody>\n",
       "    <tr>\n",
       "      <th>MLA</th>\n",
       "      <td>3.0</td>\n",
       "      <td>2.310493</td>\n",
       "      <td>2.079444</td>\n",
       "      <td>5.848370</td>\n",
       "      <td>5.857117</td>\n",
       "      <td>37.797622</td>\n",
       "    </tr>\n",
       "    <tr>\n",
       "      <th>DenseMLP</th>\n",
       "      <td>3.0</td>\n",
       "      <td>0.574656</td>\n",
       "      <td>0.522749</td>\n",
       "      <td>2.527005</td>\n",
       "      <td>2.545534</td>\n",
       "      <td>15.933123</td>\n",
       "    </tr>\n",
       "    <tr>\n",
       "      <th>TP_MLA</th>\n",
       "      <td>58.0</td>\n",
       "      <td>0.720955</td>\n",
       "      <td>0.663193</td>\n",
       "      <td>1.683756</td>\n",
       "      <td>1.881772</td>\n",
       "      <td>9.671069</td>\n",
       "    </tr>\n",
       "    <tr>\n",
       "      <th>Shared Expert</th>\n",
       "      <td>58.0</td>\n",
       "      <td>0.020595</td>\n",
       "      <td>0.019153</td>\n",
       "      <td>0.077915</td>\n",
       "      <td>0.079974</td>\n",
       "      <td>0.450307</td>\n",
       "    </tr>\n",
       "    <tr>\n",
       "      <th>Combine</th>\n",
       "      <td>58.0</td>\n",
       "      <td>0.578740</td>\n",
       "      <td>0.204216</td>\n",
       "      <td>1.107479</td>\n",
       "      <td>1.107479</td>\n",
       "      <td>1.107479</td>\n",
       "    </tr>\n",
       "    <tr>\n",
       "      <th>Overlap1</th>\n",
       "      <td>58.0</td>\n",
       "      <td>-0.162811</td>\n",
       "      <td>-0.478130</td>\n",
       "      <td>-0.654192</td>\n",
       "      <td>-0.854267</td>\n",
       "      <td>-9.013897</td>\n",
       "    </tr>\n",
       "    <tr>\n",
       "      <th>Routed Expert</th>\n",
       "      <td>58.0</td>\n",
       "      <td>0.164760</td>\n",
       "      <td>0.153225</td>\n",
       "      <td>0.623321</td>\n",
       "      <td>0.639792</td>\n",
       "      <td>3.602459</td>\n",
       "    </tr>\n",
       "    <tr>\n",
       "      <th>Dispatch</th>\n",
       "      <td>58.0</td>\n",
       "      <td>0.182185</td>\n",
       "      <td>0.088554</td>\n",
       "      <td>0.314370</td>\n",
       "      <td>0.314370</td>\n",
       "      <td>0.314370</td>\n",
       "    </tr>\n",
       "    <tr>\n",
       "      <th>Overlap2</th>\n",
       "      <td>58.0</td>\n",
       "      <td>0.017425</td>\n",
       "      <td>-0.064671</td>\n",
       "      <td>-0.308951</td>\n",
       "      <td>-0.325422</td>\n",
       "      <td>-3.288089</td>\n",
       "    </tr>\n",
       "  </tbody>\n",
       "</table>\n",
       "</div>"
      ],
      "text/plain": [
       "GPU            Layers  DGX-B200  GB200-NVL72      H200      H800     H20-3E\n",
       "MLA               3.0  2.310493     2.079444  5.848370  5.857117  37.797622\n",
       "DenseMLP          3.0  0.574656     0.522749  2.527005  2.545534  15.933123\n",
       "TP_MLA           58.0  0.720955     0.663193  1.683756  1.881772   9.671069\n",
       "Shared Expert    58.0  0.020595     0.019153  0.077915  0.079974   0.450307\n",
       "Combine          58.0  0.578740     0.204216  1.107479  1.107479   1.107479\n",
       "Overlap1         58.0 -0.162811    -0.478130 -0.654192 -0.854267  -9.013897\n",
       "Routed Expert    58.0  0.164760     0.153225  0.623321  0.639792   3.602459\n",
       "Dispatch         58.0  0.182185     0.088554  0.314370  0.314370   0.314370\n",
       "Overlap2         58.0  0.017425    -0.064671 -0.308951 -0.325422  -3.288089"
      ]
     },
     "execution_count": 6,
     "metadata": {},
     "output_type": "execute_result"
    }
   ],
   "source": [
    "detail"
   ]
  },
  {
   "cell_type": "code",
   "execution_count": 7,
   "id": "a3e8d48d-c828-4318-a8c3-4092d532b11e",
   "metadata": {},
   "outputs": [
    {
     "data": {
      "text/html": [
       "<div>\n",
       "<style scoped>\n",
       "    .dataframe tbody tr th:only-of-type {\n",
       "        vertical-align: middle;\n",
       "    }\n",
       "\n",
       "    .dataframe tbody tr th {\n",
       "        vertical-align: top;\n",
       "    }\n",
       "\n",
       "    .dataframe thead th {\n",
       "        text-align: right;\n",
       "    }\n",
       "</style>\n",
       "<table border=\"1\" class=\"dataframe\">\n",
       "  <thead>\n",
       "    <tr style=\"text-align: right;\">\n",
       "      <th>GPU</th>\n",
       "      <th>DGX-B200</th>\n",
       "      <th>GB200-NVL72</th>\n",
       "      <th>H200</th>\n",
       "      <th>H800</th>\n",
       "      <th>H20-3E</th>\n",
       "    </tr>\n",
       "  </thead>\n",
       "  <tbody>\n",
       "    <tr>\n",
       "      <th>Compute</th>\n",
       "      <td>61.221441</td>\n",
       "      <td>56.269710</td>\n",
       "      <td>163.455698</td>\n",
       "      <td>176.097174</td>\n",
       "      <td>957.174671</td>\n",
       "    </tr>\n",
       "    <tr>\n",
       "      <th>Comm</th>\n",
       "      <td>44.133625</td>\n",
       "      <td>16.980641</td>\n",
       "      <td>82.467251</td>\n",
       "      <td>82.467251</td>\n",
       "      <td>82.467251</td>\n",
       "    </tr>\n",
       "    <tr>\n",
       "      <th>Sum</th>\n",
       "      <td>62.232083</td>\n",
       "      <td>56.269710</td>\n",
       "      <td>163.455698</td>\n",
       "      <td>176.097174</td>\n",
       "      <td>957.174671</td>\n",
       "    </tr>\n",
       "  </tbody>\n",
       "</table>\n",
       "</div>"
      ],
      "text/plain": [
       "GPU       DGX-B200  GB200-NVL72        H200        H800      H20-3E\n",
       "Compute  61.221441    56.269710  163.455698  176.097174  957.174671\n",
       "Comm     44.133625    16.980641   82.467251   82.467251   82.467251\n",
       "Sum      62.232083    56.269710  163.455698  176.097174  957.174671"
      ]
     },
     "execution_count": 7,
     "metadata": {},
     "output_type": "execute_result"
    }
   ],
   "source": [
    "summary"
   ]
  },
  {
   "cell_type": "code",
   "execution_count": 8,
   "id": "c2e29861-a935-4a21-a43d-44a65a8e2c92",
   "metadata": {},
   "outputs": [
    {
     "name": "stdout",
     "output_type": "stream",
     "text": [
      "| GPU         |     Sum |\n",
      "|:------------|--------:|\n",
      "| DGX-B200    | 17607.5 |\n",
      "| GB200-NVL72 | 19473.2 |\n",
      "| H200        |  6703.7 |\n",
      "| H800        |  6222.4 |\n",
      "| H20-3E      |  1144.8 |\n"
     ]
    }
   ],
   "source": [
    "tp=4\n",
    "_ , ttft_sum = sb.prefill_time(args,gpu_blackwell,seq_len, kv_cache_rate, tp=tp, dp=8, print_console=False)\n",
    "print(ttft_sum.apply(lambda x: seq_len/tp * (1000/ x)).loc['Sum'].to_markdown(floatfmt=\".1f\"))\n"
   ]
  }
 ],
 "metadata": {
  "kernelspec": {
   "display_name": "Python 3 (ipykernel)",
   "language": "python",
   "name": "python3"
  },
  "language_info": {
   "codemirror_mode": {
    "name": "ipython",
    "version": 3
   },
   "file_extension": ".py",
   "mimetype": "text/x-python",
   "name": "python",
   "nbconvert_exporter": "python",
   "pygments_lexer": "ipython3",
   "version": "3.9.6"
  }
 },
 "nbformat": 4,
 "nbformat_minor": 5
}
